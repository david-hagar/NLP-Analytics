{
 "cells": [
  {
   "cell_type": "markdown",
   "metadata": {},
   "source": [
    "Example adapted from: https://machinelearningmastery.com/sequence-classification-lstm-recurrent-neural-networks-python-keras/\n",
    "\n",
    "Required instals:\n",
    "1. jupyter notebooks\n",
    "2. keras \n",
    "3. tensorflow\n",
    "\n",
    "My install process was:\n",
    "1. follow instructions for python virtual environment (Virtualenv) install at https://www.tensorflow.org/install/\n",
    "2. install keras python env using https://keras.io/#installation\n",
    "3. install jupyter notebooks (http://jupyter.org/install) and set up a tensorflow kernel that uses the virtualenv set up above. \n",
    "4. start jupyter notebooks in a parent directory of this notebook and open this notebook. Make sure the Tensorflow Virtualenv jupyter kernel is active when running the notebook.\n",
    "The logs of my install are at: https://www.evernote.com/l/ACtXalW9qSpOVZOUU04V2ATOmJOvw4Ffido"
   ]
  },
  {
   "cell_type": "code",
   "execution_count": 1,
   "metadata": {},
   "outputs": [
    {
     "name": "stderr",
     "output_type": "stream",
     "text": [
      "Using TensorFlow backend.\n",
      "/Users/hagar/apps/tensorflow/lib/python3.6/importlib/_bootstrap.py:219: RuntimeWarning: compiletime version 3.5 of module 'tensorflow.python.framework.fast_tensor_util' does not match runtime version 3.6\n",
      "  return f(*args, **kwds)\n"
     ]
    },
    {
     "data": {
      "text/html": [
       "<style>.container { width:97% !important; }</style>"
      ],
      "text/plain": [
       "<IPython.core.display.HTML object>"
      ]
     },
     "metadata": {},
     "output_type": "display_data"
    }
   ],
   "source": [
    "import numpy as np\n",
    "from keras.datasets import imdb\n",
    "from keras.models import Sequential\n",
    "from keras.layers import Dense, LSTM, GRU, Dropout\n",
    "from keras.layers.embeddings import Embedding\n",
    "from keras.preprocessing import sequence\n",
    "from keras.callbacks import TensorBoard\n",
    "from keras import backend \n",
    "# fix random seed for reproducibility\n",
    "np.random.seed(7)\n",
    "\n",
    "import shutil\n",
    "import os\n",
    "\n",
    "import matplotlib.pyplot as plt\n",
    "%matplotlib inline\n",
    "\n",
    "from IPython.core.display import display, HTML\n",
    "display(HTML(\"<style>.container { width:97% !important; }</style>\")) #Set width of iPython cells"
   ]
  },
  {
   "cell_type": "markdown",
   "metadata": {},
   "source": [
    "# Load IMDB Dataset"
   ]
  },
  {
   "cell_type": "code",
   "execution_count": 81,
   "metadata": {
    "collapsed": true
   },
   "outputs": [],
   "source": [
    "# load the dataset but only keep the top n words, zero the rest\n",
    "# docs at: https://www.tensorflow.org/api_docs/python/tf/keras/datasets/imdb/load_data \n",
    "top_words = 5000\n",
    "start_char=1\n",
    "oov_char=2\n",
    "index_from=3\n",
    "(X_train, y_train), (X_test, y_test) = imdb.load_data(num_words=top_words, \n",
    "                                start_char=start_char, oov_char = oov_char, index_from = index_from )"
   ]
  },
  {
   "cell_type": "code",
   "execution_count": 82,
   "metadata": {
    "scrolled": true
   },
   "outputs": [
    {
     "name": "stdout",
     "output_type": "stream",
     "text": [
      "(25000,)\n",
      "(25000,)\n"
     ]
    }
   ],
   "source": [
    "print(X_train.shape)\n",
    "print(y_train.shape)"
   ]
  },
  {
   "cell_type": "code",
   "execution_count": 83,
   "metadata": {
    "scrolled": true
   },
   "outputs": [
    {
     "name": "stdout",
     "output_type": "stream",
     "text": [
      "218\n",
      "189\n"
     ]
    }
   ],
   "source": [
    "print(len(X_train[0]))\n",
    "print(len(X_train[1]))"
   ]
  },
  {
   "cell_type": "code",
   "execution_count": 84,
   "metadata": {
    "scrolled": true
   },
   "outputs": [
    {
     "name": "stdout",
     "output_type": "stream",
     "text": [
      "(25000,)\n",
      "(25000,)\n"
     ]
    }
   ],
   "source": [
    "print(X_test.shape)\n",
    "print(y_test.shape)"
   ]
  },
  {
   "cell_type": "code",
   "execution_count": 85,
   "metadata": {},
   "outputs": [
    {
     "data": {
      "text/plain": [
       "[1,\n",
       " 14,\n",
       " 22,\n",
       " 16,\n",
       " 43,\n",
       " 530,\n",
       " 973,\n",
       " 1622,\n",
       " 1385,\n",
       " 65,\n",
       " 458,\n",
       " 4468,\n",
       " 66,\n",
       " 3941,\n",
       " 4,\n",
       " 173,\n",
       " 36,\n",
       " 256,\n",
       " 5,\n",
       " 25,\n",
       " 100,\n",
       " 43,\n",
       " 838,\n",
       " 112,\n",
       " 50,\n",
       " 670,\n",
       " 2,\n",
       " 9,\n",
       " 35,\n",
       " 480,\n",
       " 284,\n",
       " 5,\n",
       " 150,\n",
       " 4,\n",
       " 172,\n",
       " 112,\n",
       " 167,\n",
       " 2,\n",
       " 336,\n",
       " 385,\n",
       " 39,\n",
       " 4,\n",
       " 172,\n",
       " 4536,\n",
       " 1111,\n",
       " 17,\n",
       " 546,\n",
       " 38,\n",
       " 13,\n",
       " 447,\n",
       " 4,\n",
       " 192,\n",
       " 50,\n",
       " 16,\n",
       " 6,\n",
       " 147,\n",
       " 2025,\n",
       " 19,\n",
       " 14,\n",
       " 22,\n",
       " 4,\n",
       " 1920,\n",
       " 4613,\n",
       " 469,\n",
       " 4,\n",
       " 22,\n",
       " 71,\n",
       " 87,\n",
       " 12,\n",
       " 16,\n",
       " 43,\n",
       " 530,\n",
       " 38,\n",
       " 76,\n",
       " 15,\n",
       " 13,\n",
       " 1247,\n",
       " 4,\n",
       " 22,\n",
       " 17,\n",
       " 515,\n",
       " 17,\n",
       " 12,\n",
       " 16,\n",
       " 626,\n",
       " 18,\n",
       " 2,\n",
       " 5,\n",
       " 62,\n",
       " 386,\n",
       " 12,\n",
       " 8,\n",
       " 316,\n",
       " 8,\n",
       " 106,\n",
       " 5,\n",
       " 4,\n",
       " 2223,\n",
       " 5244,\n",
       " 16,\n",
       " 480,\n",
       " 66,\n",
       " 3785,\n",
       " 33,\n",
       " 4,\n",
       " 130,\n",
       " 12,\n",
       " 16,\n",
       " 38,\n",
       " 619,\n",
       " 5,\n",
       " 25,\n",
       " 124,\n",
       " 51,\n",
       " 36,\n",
       " 135,\n",
       " 48,\n",
       " 25,\n",
       " 1415,\n",
       " 33,\n",
       " 6,\n",
       " 22,\n",
       " 12,\n",
       " 215,\n",
       " 28,\n",
       " 77,\n",
       " 52,\n",
       " 5,\n",
       " 14,\n",
       " 407,\n",
       " 16,\n",
       " 82,\n",
       " 2,\n",
       " 8,\n",
       " 4,\n",
       " 107,\n",
       " 117,\n",
       " 5952,\n",
       " 15,\n",
       " 256,\n",
       " 4,\n",
       " 2,\n",
       " 7,\n",
       " 3766,\n",
       " 5,\n",
       " 723,\n",
       " 36,\n",
       " 71,\n",
       " 43,\n",
       " 530,\n",
       " 476,\n",
       " 26,\n",
       " 400,\n",
       " 317,\n",
       " 46,\n",
       " 7,\n",
       " 4,\n",
       " 2,\n",
       " 1029,\n",
       " 13,\n",
       " 104,\n",
       " 88,\n",
       " 4,\n",
       " 381,\n",
       " 15,\n",
       " 297,\n",
       " 98,\n",
       " 32,\n",
       " 2071,\n",
       " 56,\n",
       " 26,\n",
       " 141,\n",
       " 6,\n",
       " 194,\n",
       " 7486,\n",
       " 18,\n",
       " 4,\n",
       " 226,\n",
       " 22,\n",
       " 21,\n",
       " 134,\n",
       " 476,\n",
       " 26,\n",
       " 480,\n",
       " 5,\n",
       " 144,\n",
       " 30,\n",
       " 5535,\n",
       " 18,\n",
       " 51,\n",
       " 36,\n",
       " 28,\n",
       " 224,\n",
       " 92,\n",
       " 25,\n",
       " 104,\n",
       " 4,\n",
       " 226,\n",
       " 65,\n",
       " 16,\n",
       " 38,\n",
       " 1334,\n",
       " 88,\n",
       " 12,\n",
       " 16,\n",
       " 283,\n",
       " 5,\n",
       " 16,\n",
       " 4472,\n",
       " 113,\n",
       " 103,\n",
       " 32,\n",
       " 15,\n",
       " 16,\n",
       " 5345,\n",
       " 19,\n",
       " 178,\n",
       " 32]"
      ]
     },
     "execution_count": 85,
     "metadata": {},
     "output_type": "execute_result"
    }
   ],
   "source": [
    "X_train[0]"
   ]
  },
  {
   "cell_type": "markdown",
   "metadata": {},
   "source": [
    "## Pad sequences so they are all the same length (required by keras/tensorflow)."
   ]
  },
  {
   "cell_type": "code",
   "execution_count": 86,
   "metadata": {
    "collapsed": true
   },
   "outputs": [],
   "source": [
    "# truncate and pad input sequences\n",
    "max_review_length = 500\n",
    "X_train = sequence.pad_sequences(X_train, maxlen=max_review_length)\n",
    "X_test = sequence.pad_sequences(X_test, maxlen=max_review_length)"
   ]
  },
  {
   "cell_type": "code",
   "execution_count": 87,
   "metadata": {
    "scrolled": true
   },
   "outputs": [
    {
     "name": "stdout",
     "output_type": "stream",
     "text": [
      "(25000, 500)\n",
      "(25000,)\n"
     ]
    }
   ],
   "source": [
    "print(X_train.shape)\n",
    "print(y_train.shape)"
   ]
  },
  {
   "cell_type": "code",
   "execution_count": 88,
   "metadata": {
    "scrolled": true
   },
   "outputs": [
    {
     "name": "stdout",
     "output_type": "stream",
     "text": [
      "500\n",
      "500\n"
     ]
    }
   ],
   "source": [
    "print(len(X_train[0]))\n",
    "print(len(X_train[1]))"
   ]
  },
  {
   "cell_type": "code",
   "execution_count": 89,
   "metadata": {
    "scrolled": true
   },
   "outputs": [
    {
     "name": "stdout",
     "output_type": "stream",
     "text": [
      "(25000, 500)\n",
      "(25000,)\n"
     ]
    }
   ],
   "source": [
    "print(X_test.shape)\n",
    "print(y_test.shape)"
   ]
  },
  {
   "cell_type": "code",
   "execution_count": 90,
   "metadata": {
    "scrolled": true
   },
   "outputs": [
    {
     "data": {
      "text/plain": [
       "array([   0,    0,    0,    0,    0,    0,    0,    0,    0,    0,    0,\n",
       "          0,    0,    0,    0,    0,    0,    0,    0,    0,    0,    0,\n",
       "          0,    0,    0,    0,    0,    0,    0,    0,    0,    0,    0,\n",
       "          0,    0,    0,    0,    0,    0,    0,    0,    0,    0,    0,\n",
       "          0,    0,    0,    0,    0,    0,    0,    0,    0,    0,    0,\n",
       "          0,    0,    0,    0,    0,    0,    0,    0,    0,    0,    0,\n",
       "          0,    0,    0,    0,    0,    0,    0,    0,    0,    0,    0,\n",
       "          0,    0,    0,    0,    0,    0,    0,    0,    0,    0,    0,\n",
       "          0,    0,    0,    0,    0,    0,    0,    0,    0,    0,    0,\n",
       "          0,    0,    0,    0,    0,    0,    0,    0,    0,    0,    0,\n",
       "          0,    0,    0,    0,    0,    0,    0,    0,    0,    0,    0,\n",
       "          0,    0,    0,    0,    0,    0,    0,    0,    0,    0,    0,\n",
       "          0,    0,    0,    0,    0,    0,    0,    0,    0,    0,    0,\n",
       "          0,    0,    0,    0,    0,    0,    0,    0,    0,    0,    0,\n",
       "          0,    0,    0,    0,    0,    0,    0,    0,    0,    0,    0,\n",
       "          0,    0,    0,    0,    0,    0,    0,    0,    0,    0,    0,\n",
       "          0,    0,    0,    0,    0,    0,    0,    0,    0,    0,    0,\n",
       "          0,    0,    0,    0,    0,    0,    0,    0,    0,    0,    0,\n",
       "          0,    0,    0,    0,    0,    0,    0,    0,    0,    0,    0,\n",
       "          0,    0,    0,    0,    0,    0,    0,    0,    0,    0,    0,\n",
       "          0,    0,    0,    0,    0,    0,    0,    0,    0,    0,    0,\n",
       "          0,    0,    0,    0,    0,    0,    0,    0,    0,    0,    0,\n",
       "          0,    0,    0,    0,    0,    0,    0,    0,    0,    0,    0,\n",
       "          0,    0,    0,    0,    0,    0,    0,    0,    0,    0,    0,\n",
       "          0,    0,    0,    0,    0,    0,    0,    0,    0,    0,    0,\n",
       "          0,    0,    0,    0,    0,    0,    0,    1,   14,   22,   16,\n",
       "         43,  530,  973, 1622, 1385,   65,  458, 4468,   66, 3941,    4,\n",
       "        173,   36,  256,    5,   25,  100,   43,  838,  112,   50,  670,\n",
       "          2,    9,   35,  480,  284,    5,  150,    4,  172,  112,  167,\n",
       "          2,  336,  385,   39,    4,  172, 4536, 1111,   17,  546,   38,\n",
       "         13,  447,    4,  192,   50,   16,    6,  147, 2025,   19,   14,\n",
       "         22,    4, 1920, 4613,  469,    4,   22,   71,   87,   12,   16,\n",
       "         43,  530,   38,   76,   15,   13, 1247,    4,   22,   17,  515,\n",
       "         17,   12,   16,  626,   18,    2,    5,   62,  386,   12,    8,\n",
       "        316,    8,  106,    5,    4, 2223, 5244,   16,  480,   66, 3785,\n",
       "         33,    4,  130,   12,   16,   38,  619,    5,   25,  124,   51,\n",
       "         36,  135,   48,   25, 1415,   33,    6,   22,   12,  215,   28,\n",
       "         77,   52,    5,   14,  407,   16,   82,    2,    8,    4,  107,\n",
       "        117, 5952,   15,  256,    4,    2,    7, 3766,    5,  723,   36,\n",
       "         71,   43,  530,  476,   26,  400,  317,   46,    7,    4,    2,\n",
       "       1029,   13,  104,   88,    4,  381,   15,  297,   98,   32, 2071,\n",
       "         56,   26,  141,    6,  194, 7486,   18,    4,  226,   22,   21,\n",
       "        134,  476,   26,  480,    5,  144,   30, 5535,   18,   51,   36,\n",
       "         28,  224,   92,   25,  104,    4,  226,   65,   16,   38, 1334,\n",
       "         88,   12,   16,  283,    5,   16, 4472,  113,  103,   32,   15,\n",
       "         16, 5345,   19,  178,   32], dtype=int32)"
      ]
     },
     "execution_count": 90,
     "metadata": {},
     "output_type": "execute_result"
    }
   ],
   "source": [
    "X_train[0]"
   ]
  },
  {
   "cell_type": "code",
   "execution_count": 91,
   "metadata": {},
   "outputs": [
    {
     "data": {
      "text/plain": [
       "array([1, 0, 0, 1, 0, 0, 1, 0, 1, 0, 1, 0, 0, 0, 0, 0, 1, 1, 0, 1])"
      ]
     },
     "execution_count": 91,
     "metadata": {},
     "output_type": "execute_result"
    }
   ],
   "source": [
    "y_train[0:20]  # first 20 sentiment labels"
   ]
  },
  {
   "cell_type": "markdown",
   "metadata": {},
   "source": [
    "# Setup Vocabulary Dictionary\n",
    "The index value loaded differes from the dictionary value by \"index_from\" so that special characters for padding, start of sentence, and out of vocabulary can be prepended to the start of the vocabulary."
   ]
  },
  {
   "cell_type": "code",
   "execution_count": 92,
   "metadata": {
    "collapsed": true
   },
   "outputs": [],
   "source": [
    "word_index = imdb.get_word_index()\n",
    "inv_word_index = np.empty(len(word_index)+index_from+3, dtype=np.object)\n",
    "for k, v in word_index.items():\n",
    "    inv_word_index[v+index_from]=k\n",
    "\n",
    "inv_word_index[0]='<pad>'    \n",
    "inv_word_index[1]='<start>'\n",
    "inv_word_index[2]='<oov>' "
   ]
  },
  {
   "cell_type": "code",
   "execution_count": 93,
   "metadata": {},
   "outputs": [
    {
     "data": {
      "text/plain": [
       "16942"
      ]
     },
     "execution_count": 93,
     "metadata": {},
     "output_type": "execute_result"
    }
   ],
   "source": [
    "word_index['ai']"
   ]
  },
  {
   "cell_type": "code",
   "execution_count": 94,
   "metadata": {},
   "outputs": [
    {
     "data": {
      "text/plain": [
       "'ai'"
      ]
     },
     "execution_count": 94,
     "metadata": {},
     "output_type": "execute_result"
    }
   ],
   "source": [
    "inv_word_index[16942+index_from]"
   ]
  },
  {
   "cell_type": "code",
   "execution_count": 95,
   "metadata": {},
   "outputs": [
    {
     "data": {
      "text/plain": [
       "array(['<pad>', '<start>', '<oov>', None, 'the', 'and', 'a', 'of', 'to',\n",
       "       'is', 'br', 'in', 'it', 'i', 'this', 'that', 'was', 'as', 'for',\n",
       "       'with', 'movie', 'but', 'film', 'on', 'not', 'you', 'are', 'his',\n",
       "       'have', 'he', 'be', 'one', 'all', 'at', 'by', 'an', 'they', 'who',\n",
       "       'so', 'from', 'like', 'her', 'or', 'just', 'about', \"it's\", 'out',\n",
       "       'has', 'if', 'some'], dtype=object)"
      ]
     },
     "execution_count": 95,
     "metadata": {},
     "output_type": "execute_result"
    }
   ],
   "source": [
    "inv_word_index[:50]"
   ]
  },
  {
   "cell_type": "markdown",
   "metadata": {},
   "source": [
    "# Convert Encoded Sentences to Readable Text"
   ]
  },
  {
   "cell_type": "code",
   "execution_count": 96,
   "metadata": {
    "collapsed": true
   },
   "outputs": [],
   "source": [
    "def toText(wordIDs):\n",
    "    s = ''\n",
    "    for i in range(len(wordIDs)):\n",
    "        if wordIDs[i] != 0:\n",
    "            w = str(inv_word_index[wordIDs[i]])\n",
    "            s+= w + ' '\n",
    "    return s"
   ]
  },
  {
   "cell_type": "code",
   "execution_count": 97,
   "metadata": {
    "scrolled": true
   },
   "outputs": [
    {
     "name": "stdout",
     "output_type": "stream",
     "text": [
      "\n",
      "0) sentiment = positive\n",
      "<start> this film was just brilliant casting location scenery story direction everyone's really suited the part they played and you could just imagine being there robert <oov> is an amazing actor and now the same being director <oov> father came from the same scottish island as myself so i loved the fact there was a real connection with this film the witty remarks throughout the film were great it was just brilliant so much that i bought the film as soon as it was released for <oov> and would recommend it to everyone to watch and the fly fishing was amazing really cried at the end it was so sad and you know what they say if you cry at a film it must have been good and this definitely was also <oov> to the two little boy's that played the <oov> of norman and paul they were just brilliant children are often left out of the <oov> list i think because the stars that play them all grown up are such a big profile for the whole film but these children are amazing and should be praised for what they have done don't you think the whole story was so lovely because it was true and was someone's life after all that was shared with us all \n",
      "\n",
      "1) sentiment = negative\n",
      "<start> big hair big boobs bad music and a giant safety pin these are the words to best describe this terrible movie i love cheesy horror movies and i've seen hundreds but this had got to be on of the worst ever made the plot is paper thin and ridiculous the acting is an abomination the script is completely laughable the best is the end showdown with the cop and how he worked out who the killer is it's just so damn terribly written the clothes are sickening and funny in equal <oov> the hair is big lots of boobs <oov> men wear those cut <oov> shirts that show off their <oov> sickening that men actually wore them and the music is just <oov> trash that plays over and over again in almost every scene there is trashy music boobs and <oov> taking away bodies and the gym still doesn't close for <oov> all joking aside this is a truly bad film whose only charm is to look back on the disaster that was the 80's and have a good old laugh at how bad everything was back then \n",
      "\n",
      "2) sentiment = negative\n",
      "<start> this has to be one of the worst films of the 1990s when my friends i were watching this film being the target audience it was aimed at we just sat watched the first half an hour with our jaws touching the floor at how bad it really was the rest of the time everyone else in the theatre just started talking to each other leaving or generally crying into their popcorn that they actually paid money they had <oov> working to watch this feeble excuse for a film it must have looked like a great idea on paper but on film it looks like no one in the film has a clue what is going on crap acting crap costumes i can't get across how <oov> this is to watch save yourself an hour a bit of your life \n",
      "\n",
      "3) sentiment = positive\n",
      "events on the <oov> heath a mile or so from where she lives br br of course it happened many years before she was born but you wouldn't guess from the way she tells it the same story is told in bars the length and <oov> of scotland as i discussed it with a friend one night in <oov> a local cut in to give his version the discussion continued to closing time br br stories passed down like this become part of our being who doesn't remember the stories our parents told us when we were children they become our invisible world and as we grow older they maybe still serve as inspiration or as an emotional <oov> fact and fiction blend with <oov> role models warning stories <oov> magic and mystery br br my name is <oov> like my grandfather and his grandfather before him our protagonist introduces himself to us and also introduces the story that stretches back through generations it produces stories within stories stories that evoke the <oov> wonder of scotland its rugged mountains <oov> in <oov> the stuff of legend yet <oov> is <oov> in reality this is what gives it its special charm it has a rough beauty and authenticity <oov> with some of the finest <oov> singing you will ever hear br br <oov> <oov> visits his grandfather in hospital shortly before his death he burns with frustration part of him <oov> to be in the twenty first century to hang out in <oov> but he is raised on the western <oov> among a <oov> speaking community br br yet there is a deeper conflict within him he <oov> to know the truth the truth behind his <oov> ancient stories where does fiction end and he wants to know the truth behind the death of his parents br br he is pulled to make a last <oov> journey to the <oov> of one of <oov> most <oov> mountains can the truth be told or is it all in stories br br in this story about stories we <oov> bloody battles <oov> lovers the <oov> of old and the sometimes more <oov> <oov> of accepted truth in doing so we each connect with <oov> as he lives the story of his own life br br <oov> the <oov> <oov> is probably the most honest <oov> and genuinely beautiful film of scotland ever made like <oov> i got slightly annoyed with the <oov> of hanging stories on more stories but also like <oov> i <oov> this once i saw the <oov> picture ' forget the box office <oov> of braveheart and its like you might even <oov> the <oov> famous <oov> of the wicker man to see a film that is true to scotland this one is probably unique if you maybe <oov> on it deeply enough you might even re <oov> the power of storytelling and the age old question of whether there are some truths that cannot be told but only experienced \n",
      "\n",
      "4) sentiment = negative\n",
      "<start> worst mistake of my life br br i picked this movie up at target for 5 because i figured hey it's sandler i can get some cheap laughs i was wrong completely wrong mid way through the film all three of my friends were asleep and i was still suffering worst plot worst script worst movie i have ever seen i wanted to hit my head up against a wall for an hour then i'd stop and you know why because it felt damn good upon bashing my head in i stuck that damn movie in the <oov> and watched it burn and that felt better than anything else i've ever done it took american psycho army of darkness and kill bill just to get over that crap i hate you sandler for actually going through with this and ruining a whole day of my life \n"
     ]
    }
   ],
   "source": [
    "for i in range(5):\n",
    "    print()\n",
    "    print(str(i) + ') sentiment = ' + ('negative' if y_train[i]==0 else 'positive'))\n",
    "    print(toText(X_train[i]))"
   ]
  },
  {
   "cell_type": "markdown",
   "metadata": {},
   "source": [
    "# Build the model\n",
    "[Sequential guide, compile() and fit()](https://keras.io/getting-started/sequential-model-guide/) \n",
    "\n",
    "[Embedding](https://keras.io/layers/embeddings/) The embeddings layer works like an effiecient one hot encoding for the word index followed by a dense layer of size embedding_vector_length.\n",
    "\n",
    "[LSTM (middle of page)](https://keras.io/layers/recurrent/)\n",
    "\n",
    "[Dense](https://keras.io/layers/core/)\n",
    "\n",
    "[Dropout](https://keras.io/layers/core/) (1/3 down the page)\n",
    "\n",
    "\"model.compile(...) sets up the \"adam\" optimizer, similar to SGD but with some gradient averaging that works like a larger batch size to reduce the variability in the gradient from one small batch to the next.  Each SGD step is of batch_size training records. Adam is also a variant of momentum optimizers.\n",
    "\n",
    "'binary_crossentropy' is the loss functiom used most often with logistic regression and is equivalent to softmax for only two classes.\n",
    "\n",
    "In the \"Output Shape\", None is a unknown for a variable number of training records to be supplied later."
   ]
  },
  {
   "cell_type": "code",
   "execution_count": 98,
   "metadata": {
    "scrolled": false
   },
   "outputs": [
    {
     "name": "stdout",
     "output_type": "stream",
     "text": [
      "_________________________________________________________________\n",
      "Layer (type)                 Output Shape              Param #   \n",
      "=================================================================\n",
      "embedding_1 (Embedding)      (None, 500, 5)            50000     \n",
      "_________________________________________________________________\n",
      "dropout_1 (Dropout)          (None, 500, 5)            0         \n",
      "_________________________________________________________________\n",
      "gru_1 (GRU)                  (None, 150)               70200     \n",
      "_________________________________________________________________\n",
      "dropout_2 (Dropout)          (None, 150)               0         \n",
      "_________________________________________________________________\n",
      "dense_1 (Dense)              (None, 1)                 151       \n",
      "=================================================================\n",
      "Total params: 120,351\n",
      "Trainable params: 120,351\n",
      "Non-trainable params: 0\n",
      "_________________________________________________________________\n",
      "None\n"
     ]
    }
   ],
   "source": [
    "backend.clear_session()\n",
    "\n",
    "embedding_vector_length = 5\n",
    "rnn_vector_length = 150\n",
    "#activation = 'relu'\n",
    "activation = 'sigmoid'\n",
    "\n",
    "    \n",
    "model = Sequential()\n",
    "model.add(Embedding(top_words, embedding_vector_length, input_length=max_review_length))\n",
    "model.add(Dropout(0.2))\n",
    "#model.add(LSTM(rnn_vector_length, activation=activation))\n",
    "model.add(GRU(rnn_vector_length, activation=activation))\n",
    "model.add(Dropout(0.2))\n",
    "model.add(Dense(1, activation=activation))\n",
    "model.compile(loss='binary_crossentropy', optimizer='adam', metrics=['accuracy'])\n",
    "print(model.summary())\n",
    "\n"
   ]
  },
  {
   "cell_type": "markdown",
   "metadata": {},
   "source": [
    "# Setup Tensorboard\n",
    "\n",
    "1. make sure /data/kaggle-tensorboard path exists or can be created\n",
    "2. Start tensorboard from command line:\n",
    "`tensorboard --logdir=/data/kaggle-tensorboard`\n",
    "3. open [http://localhost:6006/](http://localhost:6006/)"
   ]
  },
  {
   "cell_type": "code",
   "execution_count": 99,
   "metadata": {},
   "outputs": [],
   "source": [
    "log_dir = '/data/kaggle-tensorboard'\n",
    "shutil.rmtree(log_dir, ignore_errors=True)\n",
    "os.makedirs(log_dir)\n",
    "\n",
    "tbCallBack = TensorBoard(log_dir=log_dir, histogram_freq=0, write_graph=True, write_images=True)\n",
    "full_history=[]"
   ]
  },
  {
   "cell_type": "markdown",
   "metadata": {},
   "source": [
    "# Train the Model\n",
    "\n",
    "Each epoch takes about 3 min. You can reduce the epochs to 3 for a faster build and still get good accuracy. Overfitting starts to happen at epoch 7 to 9.\n",
    "\n",
    "Note: You can run this cell multiple times to add more epochs to the model training without starting over.\n"
   ]
  },
  {
   "cell_type": "code",
   "execution_count": 100,
   "metadata": {},
   "outputs": [
    {
     "name": "stdout",
     "output_type": "stream",
     "text": [
      "Train on 25000 samples, validate on 25000 samples\n",
      "Epoch 1/8\n",
      "25000/25000 [==============================] - 253s 10ms/step - loss: 0.6900 - acc: 0.5341 - val_loss: 0.6452 - val_acc: 0.6204\n",
      "Epoch 2/8\n",
      "25000/25000 [==============================] - 253s 10ms/step - loss: 0.4777 - acc: 0.7608 - val_loss: 0.3552 - val_acc: 0.8502\n",
      "Epoch 3/8\n",
      "25000/25000 [==============================] - 251s 10ms/step - loss: 0.3033 - acc: 0.8775 - val_loss: 0.2979 - val_acc: 0.8787\n",
      "Epoch 4/8\n",
      "25000/25000 [==============================] - 251s 10ms/step - loss: 0.2450 - acc: 0.9035 - val_loss: 0.3453 - val_acc: 0.8656\n",
      "Epoch 5/8\n",
      "25000/25000 [==============================] - 256s 10ms/step - loss: 0.2141 - acc: 0.9198 - val_loss: 0.3058 - val_acc: 0.8809\n",
      "Epoch 6/8\n",
      "25000/25000 [==============================] - 256s 10ms/step - loss: 0.1946 - acc: 0.9276 - val_loss: 0.3156 - val_acc: 0.8710\n",
      "Epoch 7/8\n",
      "25000/25000 [==============================] - 254s 10ms/step - loss: 0.1739 - acc: 0.9352 - val_loss: 0.3166 - val_acc: 0.8690\n",
      "Epoch 8/8\n",
      "25000/25000 [==============================] - 256s 10ms/step - loss: 0.1617 - acc: 0.9402 - val_loss: 0.3409 - val_acc: 0.8732\n"
     ]
    }
   ],
   "source": [
    "history = model.fit(X_train, y_train, validation_data=(X_test, y_test), epochs=8, batch_size=64, callbacks=[tbCallBack])\n",
    "full_history += history.history['loss']"
   ]
  },
  {
   "cell_type": "markdown",
   "metadata": {},
   "source": [
    "# Accuracy on the Test Set\n"
   ]
  },
  {
   "cell_type": "code",
   "execution_count": 101,
   "metadata": {},
   "outputs": [
    {
     "name": "stdout",
     "output_type": "stream",
     "text": [
      "Accuracy: 87.32%\n",
      "embedding_vector_length = 5\n",
      "rnn_vector_length = 150\n"
     ]
    }
   ],
   "source": [
    "scores = model.evaluate(X_test, y_test, verbose=0)\n",
    "print(\"Accuracy: %.2f%%\" % (scores[1]*100))\n",
    "print( 'embedding_vector_length = ' + str( embedding_vector_length ))\n",
    "print( 'rnn_vector_length = ' + str( rnn_vector_length ))"
   ]
  },
  {
   "cell_type": "markdown",
   "metadata": {},
   "source": [
    " # Hyper Parameter Tuning Notes\n",
    "\n",
    "| Accuracy %    | Type      | max val acc epoch | embedding_vector_length  | RNN state size |  Dropout\n",
    "| :------------ | :-------- | :----  | :----                    |  :----         |  :----  \n",
    "| 88.46     *   | GRU       | 6      | 5                        | 150            | 0.2 (after Embedding and LSTM)\n",
    "| 88.4          | GRU       | 4      | 5                        | 100            | no dropout\n",
    "| 88.32         | GRU       | 7      | 32                       | 100            |\n",
    "| 88.29         | GRU       | 8      | 5                        | 200            | no dropout \n",
    "| 88.03         | GRU       | >6     | 20                       | 40             | 0.3 (after Embedding and LSTM)\n",
    "| 87.93         | GRU       | 4      | 32                       | 50             | 0.2 (after LSTM)\n",
    "| 87.60         | GRU       | 5      | 5                        | 50             |  no dropout\n",
    "| 87.5          | GRU       | 8      | 10                       | 20             |  no dropout\n",
    "| 87.5          | GRU       | 5      | 32                       | 50             |\n",
    "| 87.46         | GRU       | 8      | 16                       | 100            |\n",
    "| < 87          | LSTM      | 9-11   | 32                       | 100            |\n",
    "| 87.66         | GRU       | 5      | 32                       | 50             | 0.3 (after Embedding and LSTM)\n",
    "| 86.5          | GRU       | >10    | 5                        | 10             | no dropout\n",
    "\n",
    "\n"
   ]
  },
  {
   "cell_type": "markdown",
   "metadata": {},
   "source": [
    "# Graphs"
   ]
  },
  {
   "cell_type": "code",
   "execution_count": 60,
   "metadata": {},
   "outputs": [
    {
     "data": {
      "text/plain": [
       "{'acc': [0.92132000001907344,\n",
       "  0.92511999998092653,\n",
       "  0.92744000003814697,\n",
       "  0.931240000038147,\n",
       "  0.9316000000190735,\n",
       "  0.93456000001907347,\n",
       "  0.93612000001907347,\n",
       "  0.93511999999999995],\n",
       " 'loss': [0.20066500063896178,\n",
       "  0.19521712357044219,\n",
       "  0.19008492760658263,\n",
       "  0.18031811884403229,\n",
       "  0.17784201088905335,\n",
       "  0.1730671193599701,\n",
       "  0.16897921231746674,\n",
       "  0.17040307953596115],\n",
       " 'val_acc': [0.86300000003814692,\n",
       "  0.88136000003814696,\n",
       "  0.88048000003814697,\n",
       "  0.87795999998092655,\n",
       "  0.8792399999809265,\n",
       "  0.87836000001907344,\n",
       "  0.87695999998092655,\n",
       "  0.87719999998092646],\n",
       " 'val_loss': [0.35400724132299421,\n",
       "  0.29389947344779971,\n",
       "  0.3181267168188095,\n",
       "  0.30789759867668154,\n",
       "  0.32713924089908603,\n",
       "  0.32744778057575225,\n",
       "  0.33695198153018951,\n",
       "  0.32763832686424255]}"
      ]
     },
     "execution_count": 60,
     "metadata": {},
     "output_type": "execute_result"
    }
   ],
   "source": [
    "history.history  # todo: add graph of all 4 values with history"
   ]
  },
  {
   "cell_type": "code",
   "execution_count": 61,
   "metadata": {},
   "outputs": [
    {
     "data": {
      "image/png": "[encoded data removed]",
      "text/plain": [
       "<matplotlib.figure.Figure at 0x11f6672e8>"
      ]
     },
     "metadata": {},
     "output_type": "display_data"
    },
    {
     "data": {
      "image/png": "[encoded data removed]",
      "text/plain": [
       "<matplotlib.figure.Figure at 0x11a488a90>"
      ]
     },
     "metadata": {},
     "output_type": "display_data"
    }
   ],
   "source": [
    "plt.plot(history.history['loss'])\n",
    "plt.yscale('log')\n",
    "plt.show()\n",
    "\n",
    "plt.plot(full_history)\n",
    "plt.yscale('log')\n",
    "plt.show()"
   ]
  },
  {
   "cell_type": "markdown",
   "metadata": {},
   "source": [
    "# Evaluate on Custom Text"
   ]
  },
  {
   "cell_type": "code",
   "execution_count": 62,
   "metadata": {},
   "outputs": [
    {
     "data": {
      "text/plain": [
       "['some', 'text', 'to', 'tokenize', \"something's\", 'something', 'else']"
      ]
     },
     "execution_count": 62,
     "metadata": {},
     "output_type": "execute_result"
    }
   ],
   "source": [
    "import re\n",
    "words_only = r'[^\\s!,.?\\-\":;0-9]+'\n",
    "re.findall(words_only, \"Some text to, tokenize. something's.Something-else?\".lower())"
   ]
  },
  {
   "cell_type": "code",
   "execution_count": 63,
   "metadata": {},
   "outputs": [
    {
     "data": {
      "text/plain": [
       "'<start> to code and back again <oov> <oov> '"
      ]
     },
     "execution_count": 63,
     "metadata": {},
     "output_type": "execute_result"
    }
   ],
   "source": [
    "def encode(reviewText):\n",
    "\n",
    "    words = re.findall(words_only, reviewText.lower())\n",
    "    reviewIDs = [start_char]\n",
    "    for word in words:\n",
    "        index = word_index.get(word, oov_char -index_from) + index_from # defaults to oov_char for missing\n",
    "        if index > top_words:\n",
    "            index = oov_char\n",
    "        reviewIDs.append(index)  \n",
    "    return reviewIDs\n",
    "\n",
    "toText(encode('To code and back again. ikkyikyptangzooboing ni !!'))\n"
   ]
  },
  {
   "cell_type": "code",
   "execution_count": 106,
   "metadata": {},
   "outputs": [
    {
     "data": {
      "text/plain": [
       "array([list([1, 14, 20, 9, 527]),\n",
       "       list([1, 14, 286, 6, 527, 20, 5, 13, 423, 12, 165]),\n",
       "       list([1, 14, 20, 16, 87]),\n",
       "       list([1, 51, 6, 437, 7, 58, 12, 16, 99, 196, 5, 161, 97, 101, 281]),\n",
       "       list([1, 14, 16, 357, 5, 6982]), list([1, 13, 423, 4, 20]),\n",
       "       list([1, 13, 161, 40, 4, 20]),\n",
       "       list([1, 13, 40, 4, 485, 284, 21, 4, 20, 17, 6, 226, 1583, 1035]),\n",
       "       list([1, 13, 92, 124, 12, 16, 608, 49, 52, 5, 49, 78, 49, 80, 40, 12, 49, 80, 24, 40, 12]),\n",
       "       list([1, 50, 26, 407, 3818, 2, 33, 263, 514, 834, 2, 2026, 151, 2, 15, 331, 359, 6, 117, 113, 585, 8, 2, 98, 8, 6231, 5, 198, 618, 51, 14, 2, 5436, 787, 9, 32, 44, 25, 79, 6, 8441, 1061, 19, 883, 312, 9926, 2, 5775, 2, 6, 2, 2362, 5, 6, 226, 176, 7, 871, 170, 8, 2, 37, 4030, 1116, 45, 4, 243, 7, 3221, 1154, 15, 31, 100, 838, 5938, 6489, 310, 7, 8061, 2, 19, 6, 87, 855, 7, 2, 2, 5, 6, 2, 11, 27, 744]),\n",
       "       list([1, 50, 26, 211, 8, 30, 4103, 2296, 5, 50, 26, 211, 8, 901, 183, 44, 8235, 102, 5, 2, 1595, 15, 5798, 2, 2, 19, 4, 7042, 182, 9, 35, 1167, 2790, 209, 656, 4, 364, 1320, 38, 8, 1128, 50, 26, 527, 1007, 18, 14, 32, 7, 98, 4, 1504, 959, 7, 4, 2, 15, 14, 22, 1367, 63, 166, 12, 481, 40, 13, 244, 2, 2, 18, 61, 5150, 8, 2, 61, 205, 1515, 2, 21, 13, 40, 8, 104, 13, 244, 2, 415, 2, 2, 8, 974, 15, 4, 439, 9524, 19, 72, 5, 24, 4, 6356]),\n",
       "       list([1, 137, 6595, 2, 66, 3027, 72, 76, 7, 6595, 12, 122, 1578, 72, 7, 142, 334, 33, 86, 13, 197, 12, 16, 1171, 2, 21, 15, 43, 2, 12, 12, 64, 569, 72, 54, 6595, 417, 579, 27, 2, 5, 1087, 60, 4, 7054, 7, 4, 995, 80, 3547, 15, 14, 9, 6, 606, 7665, 7, 4626, 4, 2, 632, 37, 9, 165, 1447, 39, 445, 150, 494, 8, 2330, 12, 137, 29, 684, 47, 8, 548, 27, 2, 8, 413, 445, 309, 2, 15, 12, 9, 1046, 724, 6, 686, 2892, 33, 4, 130, 7, 2, 5, 60, 4, 228, 2352, 83, 4, 172, 2202, 1038, 6595, 9, 24, 60, 754, 17, 221, 42, 441, 17, 94, 217, 2186, 4, 64, 52, 1409, 13, 70, 67, 11, 6595, 62, 30, 4, 379, 454, 5, 1368, 2, 1153, 21, 103, 148, 86, 234, 4, 20, 461, 43, 357, 5, 25, 2, 459, 76, 1627]),\n",
       "       list([1, 25, 92, 2, 178, 631, 4272, 2515, 140, 5, 2, 129, 2, 492, 7, 6, 710, 415, 13, 2479, 61, 3175, 33, 25, 38, 446, 1607, 711, 25, 5, 32, 129, 710, 631, 2, 2])], dtype=object)"
      ]
     },
     "execution_count": 106,
     "metadata": {},
     "output_type": "execute_result"
    }
   ],
   "source": [
    "# reviews from: \n",
    "# https://www.pluggedin.com/movie-reviews/solo-a-star-wars-story\n",
    "# http://badmovie-badreview.com/category/bad-reviews/\n",
    "\n",
    "user_reviews = [\"This movie is horrible\",\n",
    "         \"This wasn't a horrible movie and I liked it actually\",\n",
    "         \"This movie was great.\",\n",
    "         \"What a waste of time. It was too long and didn't make any sense.\",\n",
    "         \"This was boring and drab.\",\n",
    "         \"I liked the movie.\",\n",
    "         \"I didn't like the movie.\",\n",
    "         \"I like the lead actor but the movie as a whole fell flat\",\n",
    "         \"I don't know. It was ok, some good and some bad. Some will like it, some will not like it.\",\n",
    "         \"There are definitely heroic seeds at our favorite space scoundrel's core, though, seeds that simply need a little life experience to nurture them to growth. And that's exactly what this swooping heist tale is all about. You get a yarn filled with romance, high-stakes gambits, flashy sidekicks, a spunky robot and a whole lot of who's-going-to-outfox-who intrigue. Ultimately, it's the kind of colorful adventure that one could imagine Harrison Ford's version of Han recalling with a great deal of flourish … and a twinkle in his eye.\",\n",
    "         \"There are times to be politically correct and there are times to write things about midget movies, and I’m afraid that sharing Ankle Biters with the wider world is an impossible task without taking the low road, so to speak. There are horrible reasons for this, all of them the direct result of the midgets that this film contains, which makes it sound like I am blaming midgets for my inability to regulate my own moral temperament but I like to think I am a…big…enough person (geddit?) to admit that the problem rests with me, and not the disabled.\",\n",
    "         \"While Beowulf didn’t really remind me much of Beowulf, it did reminded me of something else. At first I thought it was Van Helsing, but that just wasn’t it. It only hit me when Beowulf finally told his backstory and suddenly even the dumbest of the dumb will realise that this is a simple ripoff of Blade. The badass hero, who is actually born from evil, now wants to destroy it, while he apparently has to fight his urges to become evil himself (not that it is mentioned beyond a single reference at the end of Beowulf) and even the music fits into the same range. Sadly Beowulf is not even nearly as interesting or entertaining as its role model. The only good aspects I can see in Beowulf would be the stupid beginning and Christopher Lamberts hair. But after those first 10 minutes, the movie becomes just boring and you don’t care much anymore.\",\n",
    "         \"You don't frighten us, English pig-dogs!  Go and boil your bottoms, son of a silly person!  I blow my nose at you, so-called Arthur King!  You and all your silly English Knnnnnnnn-ighuts!!!\"\n",
    "        ]\n",
    "\n",
    "X_user = np.array([encode(review) for review in user_reviews ])\n",
    "X_user\n"
   ]
  },
  {
   "cell_type": "code",
   "execution_count": 107,
   "metadata": {},
   "outputs": [
    {
     "data": {
      "text/plain": [
       "array([[   0,    0,    0, ...,   20,    9,  527],\n",
       "       [   0,    0,    0, ...,  423,   12,  165],\n",
       "       [   0,    0,    0, ...,   20,   16,   87],\n",
       "       ..., \n",
       "       [   0,    0,    0, ...,   24,    4, 6356],\n",
       "       [   0,    0,    0, ...,  459,   76, 1627],\n",
       "       [   0,    0,    0, ...,  631,    2,    2]], dtype=int32)"
      ]
     },
     "execution_count": 107,
     "metadata": {},
     "output_type": "execute_result"
    }
   ],
   "source": [
    "X_user_pad = sequence.pad_sequences(X_user, maxlen=max_review_length)\n",
    "X_user_pad"
   ]
  },
  {
   "cell_type": "markdown",
   "metadata": {},
   "source": [
    "# Features View"
   ]
  },
  {
   "cell_type": "code",
   "execution_count": 108,
   "metadata": {},
   "outputs": [
    {
     "name": "stdout",
     "output_type": "stream",
     "text": [
      "\n",
      "<start> this movie is horrible \n",
      "\n",
      "<start> this wasn't a horrible movie and i liked it actually \n",
      "\n",
      "<start> this movie was great \n",
      "\n",
      "<start> what a waste of time it was too long and didn't make any sense \n",
      "\n",
      "<start> this was boring and drab \n",
      "\n",
      "<start> i liked the movie \n",
      "\n",
      "<start> i didn't like the movie \n",
      "\n",
      "<start> i like the lead actor but the movie as a whole fell flat \n",
      "\n",
      "<start> i don't know it was ok some good and some bad some will like it some will not like it \n",
      "\n",
      "<start> there are definitely heroic <oov> at our favorite space <oov> core though <oov> that simply need a little life experience to <oov> them to growth and that's exactly what this <oov> heist tale is all about you get a yarn filled with romance high stakes <oov> flashy <oov> a <oov> robot and a whole lot of who's going to <oov> who intrigue ultimately it's the kind of colorful adventure that one could imagine harrison ford's version of han <oov> with a great deal of <oov> <oov> and a <oov> in his eye \n",
      "\n",
      "<start> there are times to be politically correct and there are times to write things about midget movies and <oov> afraid that sharing <oov> <oov> with the wider world is an impossible task without taking the low road so to speak there are horrible reasons for this all of them the direct result of the <oov> that this film contains which makes it sound like i am <oov> <oov> for my inability to <oov> my own moral <oov> but i like to think i am <oov> person <oov> <oov> to admit that the problem rests with me and not the disabled \n",
      "\n",
      "<start> while beowulf <oov> really remind me much of beowulf it did reminded me of something else at first i thought it was van <oov> but that just <oov> it it only hit me when beowulf finally told his <oov> and suddenly even the dumbest of the dumb will realise that this is a simple ripoff of blade the <oov> hero who is actually born from evil now wants to destroy it while he apparently has to fight his <oov> to become evil himself <oov> that it is mentioned beyond a single reference at the end of <oov> and even the music fits into the same range sadly beowulf is not even nearly as interesting or entertaining as its role model the only good aspects i can see in beowulf would be the stupid beginning and christopher <oov> hair but after those first minutes the movie becomes just boring and you <oov> care much anymore \n",
      "\n",
      "<start> you don't <oov> us english pig dogs go and <oov> your <oov> son of a silly person i blow my nose at you so called arthur king you and all your silly english <oov> <oov> \n"
     ]
    }
   ],
   "source": [
    "for row in X_user_pad:\n",
    "    print()\n",
    "    print(toText(row))"
   ]
  },
  {
   "cell_type": "markdown",
   "metadata": {},
   "source": [
    "# Results"
   ]
  },
  {
   "cell_type": "code",
   "execution_count": 109,
   "metadata": {},
   "outputs": [
    {
     "name": "stdout",
     "output_type": "stream",
     "text": [
      "\n",
      "0.01 negative: This movie is horrible\n",
      "\n",
      "0.26 negative: This wasn't a horrible movie and I liked it actually\n",
      "\n",
      "0.76 positive: This movie was great.\n",
      "\n",
      "0.03 negative: What a waste of time. It was too long and didn't make any sense.\n",
      "\n",
      "0.01 negative: This was boring and drab.\n",
      "\n",
      "0.57 positive: I liked the movie.\n",
      "\n",
      "0.15 negative: I didn't like the movie.\n",
      "\n",
      "0.04 negative: I like the lead actor but the movie as a whole fell flat\n",
      "\n",
      "0.17 negative: I don't know. It was ok, some good and some bad. Some will like it, some will not like it.\n",
      "\n",
      "0.99 positive: There are definitely heroic seeds at our favorite space scoundrel's core, though, seeds that simply need a little life experience to nurture them to growth. And that's exactly what this swooping heist tale is all about. You get a yarn filled with romance, high-stakes gambits, flashy sidekicks, a spunky robot and a whole lot of who's-going-to-outfox-who intrigue. Ultimately, it's the kind of colorful adventure that one could imagine Harrison Ford's version of Han recalling with a great deal of flourish … and a twinkle in his eye.\n",
      "\n",
      "0.05 negative: There are times to be politically correct and there are times to write things about midget movies, and I’m afraid that sharing Ankle Biters with the wider world is an impossible task without taking the low road, so to speak. There are horrible reasons for this, all of them the direct result of the midgets that this film contains, which makes it sound like I am blaming midgets for my inability to regulate my own moral temperament but I like to think I am a…big…enough person (geddit?) to admit that the problem rests with me, and not the disabled.\n",
      "\n",
      "0.01 negative: While Beowulf didn’t really remind me much of Beowulf, it did reminded me of something else. At first I thought it was Van Helsing, but that just wasn’t it. It only hit me when Beowulf finally told his backstory and suddenly even the dumbest of the dumb will realise that this is a simple ripoff of Blade. The badass hero, who is actually born from evil, now wants to destroy it, while he apparently has to fight his urges to become evil himself (not that it is mentioned beyond a single reference at the end of Beowulf) and even the music fits into the same range. Sadly Beowulf is not even nearly as interesting or entertaining as its role model. The only good aspects I can see in Beowulf would be the stupid beginning and Christopher Lamberts hair. But after those first 10 minutes, the movie becomes just boring and you don’t care much anymore.\n",
      "\n",
      "0.04 negative: You don't frighten us, English pig-dogs!  Go and boil your bottoms, son of a silly person!  I blow my nose at you, so-called Arthur King!  You and all your silly English Knnnnnnnn-ighuts!!!\n"
     ]
    }
   ],
   "source": [
    "user_scores = model.predict(X_user_pad)\n",
    "is_positive = user_scores >= 0.5  # I'm an optimist\n",
    "\n",
    "for i in range(len(user_reviews)):\n",
    "    print(  '\\n%.2f %s:' % (user_scores[i][0], 'positive' if is_positive[i] else 'negative' ) + ' ' + user_reviews[i] )"
   ]
  },
  {
   "cell_type": "code",
   "execution_count": null,
   "metadata": {
    "collapsed": true
   },
   "outputs": [],
   "source": []
  },
  {
   "cell_type": "code",
   "execution_count": null,
   "metadata": {
    "collapsed": true
   },
   "outputs": [],
   "source": []
  },
  {
   "cell_type": "code",
   "execution_count": null,
   "metadata": {
    "collapsed": true
   },
   "outputs": [],
   "source": []
  }
 ],
 "metadata": {
  "kernelspec": {
   "display_name": "Tensorflow",
   "language": "python",
   "name": "tensorflow"
  },
  "language_info": {
   "codemirror_mode": {
    "name": "ipython",
    "version": 3
   },
   "file_extension": ".py",
   "mimetype": "text/x-python",
   "name": "python",
   "nbconvert_exporter": "python",
   "pygments_lexer": "ipython3",
   "version": "3.6.3"
  }
 },
 "nbformat": 4,
 "nbformat_minor": 2
}
